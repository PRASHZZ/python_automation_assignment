{
 "cells": [
  {
   "cell_type": "markdown",
   "metadata": {},
   "source": [
    "# Mobile App Development"
   ]
  },
  {
   "cell_type": "code",
   "execution_count": 1,
   "metadata": {},
   "outputs": [],
   "source": [
    "import requests\n",
    "file = requests.get('https://clutch.co/directory/mobile-application-developers')\n",
    "from bs4 import BeautifulSoup\n",
    "soup = BeautifulSoup(file.content,'html.parser')"
   ]
  },
  {
   "cell_type": "code",
   "execution_count": 2,
   "metadata": {},
   "outputs": [],
   "source": [
    "company = soup.findAll('h3', attrs={'class':'company_info'})\n",
    "website = soup.findAll(\"div\",{\"class\":\"provider-detail col-md-2\"})\n",
    "rating = soup.findAll(\"span\",{\"class\":\"rating sg-rating__number\"})\n",
    "biglist = soup.findAll(\"div\",{\"class\":\"list-item custom_popover\"})\n",
    "min_proj_size = soup.findAll(\"div\",{\"class\":\"list-item block_tag custom_popover\"})"
   ]
  },
  {
   "cell_type": "code",
   "execution_count": 3,
   "metadata": {},
   "outputs": [
    {
     "name": "stdout",
     "output_type": "stream",
     "text": [
      "['< $25 / hr', '250 - 999', 'Ahmedabad, India', '$25 - $49 / hr', '250 - 999', 'Sunnyvale, CA', '< $25 / hr', '50 - 249', 'Jaipur, India', '< $25 / hr', '50 - 249', 'Cincinnati, OH', '$100 - $149 / hr', '50 - 249', 'New York, NY', '$50 - $99 / hr', '250 - 999', 'Poznań, Poland', '$50 - $99 / hr', '1,000 - 9,999', 'St. Petersburg, FL', '$50 - $99 / hr', '250 - 999', 'Norcross, GA', '$25 - $49 / hr', '50 - 249', 'Agoura Hills, CA', '$150 - $199 / hr', '50 - 249', 'Santa Monica, CA', '$25 - $49 / hr', '250 - 999', 'Manhattan, NY', '$150 - $199 / hr', '50 - 249', 'Montevideo, Uruguay', 'Undisclosed', '50 - 249', 'Chicago, IL', '$100 - $149 / hr', '10 - 49', 'Bournemouth, United Kingdom', '$50 - $99 / hr', '50 - 249', 'Warszawa, Poland', '$50 - $99 / hr', '50 - 249', 'San Francisco, CA', '$100 - $149 / hr', '50 - 249', 'New York, NY', '< $25 / hr', '50 - 249', 'Gurugram, India', '$50 - $99 / hr', '10 - 49', 'Dundee, United Kingdom', '$25 - $49 / hr', '50 - 249', 'Kyiv, Ukraine', '$50 - $99 / hr', '10 - 49', 'Cluj-Napoca, Romania', '$25 - $49 / hr', '10 - 49', 'Las Vegas, NV', '$150 - $199 / hr', '10 - 49', 'Ada, MI', '$50 - $99 / hr', '50 - 249', 'Cluj-Napoca, Romania', '$50 - $99 / hr', '10 - 49', 'Alpharetta, GA', '$25 - $49 / hr', '50 - 249', 'Singapore', '< $25 / hr', '50 - 249', 'Jaipur, India', '< $25 / hr', '10 - 49', 'Sahibzada Ajit Singh Nagar, India', '< $25 / hr', '10 - 49', 'White Plains, NY', '$50 - $99 / hr', '50 - 249', 'Montevideo, Uruguay', '$100 - $149 / hr', '10 - 49', 'Halifax, Canada', '$100 - $149 / hr', '50 - 249', 'New York City, NY', '< $25 / hr', '50 - 249', 'Sahibzada Ajit Singh Nagar, India', '$50 - $99 / hr', '50 - 249', 'Cluj-Napoca, Romania', '< $25 / hr', '50 - 249', 'Gurugram, India', '$50 - $99 / hr', '50 - 249', 'New York, NY', '$100 - $149 / hr', '10 - 49', 'Arlington, VA', '$25 - $49 / hr', '50 - 249', 'Budva, Montenegro', '$100 - $149 / hr', '10 - 49', 'London, United Kingdom', '< $25 / hr', '50 - 249', 'Noida, India']\n"
     ]
    },
    {
     "data": {
      "text/plain": [
       "[['< $25 / hr', '250 - 999', 'Ahmedabad, India'],\n",
       " ['$25 - $49 / hr', '250 - 999', 'Sunnyvale, CA'],\n",
       " ['< $25 / hr', '50 - 249', 'Jaipur, India'],\n",
       " ['< $25 / hr', '50 - 249', 'Cincinnati, OH'],\n",
       " ['$100 - $149 / hr', '50 - 249', 'New York, NY'],\n",
       " ['$50 - $99 / hr', '250 - 999', 'Poznań, Poland'],\n",
       " ['$50 - $99 / hr', '1,000 - 9,999', 'St. Petersburg, FL'],\n",
       " ['$50 - $99 / hr', '250 - 999', 'Norcross, GA'],\n",
       " ['$25 - $49 / hr', '50 - 249', 'Agoura Hills, CA'],\n",
       " ['$150 - $199 / hr', '50 - 249', 'Santa Monica, CA'],\n",
       " ['$25 - $49 / hr', '250 - 999', 'Manhattan, NY'],\n",
       " ['$150 - $199 / hr', '50 - 249', 'Montevideo, Uruguay'],\n",
       " ['Undisclosed', '50 - 249', 'Chicago, IL'],\n",
       " ['$100 - $149 / hr', '10 - 49', 'Bournemouth, United Kingdom'],\n",
       " ['$50 - $99 / hr', '50 - 249', 'Warszawa, Poland'],\n",
       " ['$50 - $99 / hr', '50 - 249', 'San Francisco, CA'],\n",
       " ['$100 - $149 / hr', '50 - 249', 'New York, NY'],\n",
       " ['< $25 / hr', '50 - 249', 'Gurugram, India'],\n",
       " ['$50 - $99 / hr', '10 - 49', 'Dundee, United Kingdom'],\n",
       " ['$25 - $49 / hr', '50 - 249', 'Kyiv, Ukraine'],\n",
       " ['$50 - $99 / hr', '10 - 49', 'Cluj-Napoca, Romania'],\n",
       " ['$25 - $49 / hr', '10 - 49', 'Las Vegas, NV'],\n",
       " ['$150 - $199 / hr', '10 - 49', 'Ada, MI'],\n",
       " ['$50 - $99 / hr', '50 - 249', 'Cluj-Napoca, Romania'],\n",
       " ['$50 - $99 / hr', '10 - 49', 'Alpharetta, GA'],\n",
       " ['$25 - $49 / hr', '50 - 249', 'Singapore'],\n",
       " ['< $25 / hr', '50 - 249', 'Jaipur, India'],\n",
       " ['< $25 / hr', '10 - 49', 'Sahibzada Ajit Singh Nagar, India'],\n",
       " ['< $25 / hr', '10 - 49', 'White Plains, NY'],\n",
       " ['$50 - $99 / hr', '50 - 249', 'Montevideo, Uruguay'],\n",
       " ['$100 - $149 / hr', '10 - 49', 'Halifax, Canada'],\n",
       " ['$100 - $149 / hr', '50 - 249', 'New York City, NY'],\n",
       " ['< $25 / hr', '50 - 249', 'Sahibzada Ajit Singh Nagar, India'],\n",
       " ['$50 - $99 / hr', '50 - 249', 'Cluj-Napoca, Romania'],\n",
       " ['< $25 / hr', '50 - 249', 'Gurugram, India'],\n",
       " ['$50 - $99 / hr', '50 - 249', 'New York, NY'],\n",
       " ['$100 - $149 / hr', '10 - 49', 'Arlington, VA'],\n",
       " ['$25 - $49 / hr', '50 - 249', 'Budva, Montenegro'],\n",
       " ['$100 - $149 / hr', '10 - 49', 'London, United Kingdom'],\n",
       " ['< $25 / hr', '50 - 249', 'Noida, India']]"
      ]
     },
     "execution_count": 3,
     "metadata": {},
     "output_type": "execute_result"
    }
   ],
   "source": [
    "lis=[]\n",
    "for i in biglist:\n",
    "\n",
    "    lis.append(i.text.strip())\n",
    "print(lis)\n",
    "\n",
    "\n",
    "def sublist(li, n):\n",
    "    sub=[] ; result=[]\n",
    "    for i in li:\n",
    "        sub+=[i]\n",
    "        if len(sub)==n: result+=[sub] ; sub=[]\n",
    "    if sub: result+=[sub]\n",
    "    return result\n",
    "sublist(lis,3)"
   ]
  },
  {
   "cell_type": "code",
   "execution_count": 5,
   "metadata": {},
   "outputs": [],
   "source": [
    "import pandas as pd\n",
    "l=[]\n",
    "website = soup.findAll(\"div\",{\"class\":\"provider-detail col-md-2\"})\n",
    "for i in range(0,len(company)):\n",
    "    dict={'company':company[i].find('a').contents[0].strip(),'website':website[i].find('a')['href'].strip(),'location':sublist(lis,3)[i][2],'hourly_rate':sublist(lis,3)[i][0],'employee_size':sublist(lis,3)[i][1],\n",
    "         'rating':rating[i].text.strip(),'min_proj_size':min_proj_size[i].text.strip()}\n",
    "    l.append(dict)\n",
    "convert = pd.DataFrame(l)\n",
    "convert.to_csv('Mobile_app_dev.csv')"
   ]
  },
  {
   "cell_type": "markdown",
   "metadata": {},
   "source": [
    "# Software dev"
   ]
  },
  {
   "cell_type": "code",
   "execution_count": 6,
   "metadata": {},
   "outputs": [],
   "source": [
    "file1 = requests.get('https://clutch.co/developers')\n",
    "soup1 = BeautifulSoup(file1.content,'html.parser')"
   ]
  },
  {
   "cell_type": "code",
   "execution_count": 7,
   "metadata": {},
   "outputs": [],
   "source": [
    "company1 = soup1.findAll('h3', attrs={'class':'company_info'})\n",
    "website1 = soup1.findAll(\"div\",{\"class\":\"provider-detail col-md-2\"})\n",
    "rating1 = soup1.findAll(\"span\",{\"class\":\"rating sg-rating__number\"})\n",
    "biglist1 = soup1.findAll(\"div\",{\"class\":\"list-item custom_popover\"})\n",
    "min_proj_size1 = soup1.findAll(\"div\",{\"class\":\"list-item block_tag custom_popover\"})"
   ]
  },
  {
   "cell_type": "code",
   "execution_count": 13,
   "metadata": {},
   "outputs": [
    {
     "data": {
      "text/plain": [
       "[<span class=\"rating sg-rating__number\">\n",
       "                                 5.0\n",
       "                             </span>,\n",
       " <span class=\"rating sg-rating__number\">\n",
       "                                 4.9\n",
       "                             </span>,\n",
       " <span class=\"rating sg-rating__number\">\n",
       "                                 4.9\n",
       "                             </span>,\n",
       " <span class=\"rating sg-rating__number\">\n",
       "                                 4.8\n",
       "                             </span>,\n",
       " <span class=\"rating sg-rating__number\">\n",
       "                                 4.9\n",
       "                             </span>,\n",
       " <span class=\"rating sg-rating__number\">\n",
       "                                 4.9\n",
       "                             </span>,\n",
       " <span class=\"rating sg-rating__number\">\n",
       "                                 4.7\n",
       "                             </span>,\n",
       " <span class=\"rating sg-rating__number\">\n",
       "                                 5.0\n",
       "                             </span>,\n",
       " <span class=\"rating sg-rating__number\">\n",
       "                                 4.9\n",
       "                             </span>,\n",
       " <span class=\"rating sg-rating__number\">\n",
       "                                 4.9\n",
       "                             </span>,\n",
       " <span class=\"rating sg-rating__number\">\n",
       "                                 4.8\n",
       "                             </span>,\n",
       " <span class=\"rating sg-rating__number\">\n",
       "                                 4.9\n",
       "                             </span>,\n",
       " <span class=\"rating sg-rating__number\">\n",
       "                                 4.9\n",
       "                             </span>,\n",
       " <span class=\"rating sg-rating__number\">\n",
       "                                 4.8\n",
       "                             </span>,\n",
       " <span class=\"rating sg-rating__number\">\n",
       "                                 4.8\n",
       "                             </span>,\n",
       " <span class=\"rating sg-rating__number\">\n",
       "                                 4.6\n",
       "                             </span>,\n",
       " <span class=\"rating sg-rating__number\">\n",
       "                                 4.9\n",
       "                             </span>,\n",
       " <span class=\"rating sg-rating__number\">\n",
       "                                 5.0\n",
       "                             </span>,\n",
       " <span class=\"rating sg-rating__number\">\n",
       "                                 4.8\n",
       "                             </span>,\n",
       " <span class=\"rating sg-rating__number\">\n",
       "                                 4.8\n",
       "                             </span>,\n",
       " <span class=\"rating sg-rating__number\">\n",
       "                                 5.0\n",
       "                             </span>,\n",
       " <span class=\"rating sg-rating__number\">\n",
       "                                 4.9\n",
       "                             </span>,\n",
       " <span class=\"rating sg-rating__number\">\n",
       "                                 4.9\n",
       "                             </span>,\n",
       " <span class=\"rating sg-rating__number\">\n",
       "                                 4.8\n",
       "                             </span>,\n",
       " <span class=\"rating sg-rating__number\">\n",
       "                                 4.9\n",
       "                             </span>,\n",
       " <span class=\"rating sg-rating__number\">\n",
       "                                 4.9\n",
       "                             </span>,\n",
       " <span class=\"rating sg-rating__number\">\n",
       "                                 4.8\n",
       "                             </span>,\n",
       " <span class=\"rating sg-rating__number\">\n",
       "                                 4.8\n",
       "                             </span>,\n",
       " <span class=\"rating sg-rating__number\">\n",
       "                                 4.8\n",
       "                             </span>,\n",
       " <span class=\"rating sg-rating__number\">\n",
       "                                 4.9\n",
       "                             </span>]"
      ]
     },
     "execution_count": 13,
     "metadata": {},
     "output_type": "execute_result"
    }
   ],
   "source": [
    "rating1"
   ]
  },
  {
   "cell_type": "code",
   "execution_count": 11,
   "metadata": {
    "scrolled": true
   },
   "outputs": [
    {
     "name": "stdout",
     "output_type": "stream",
     "text": [
      "['$100 - $149 / hr', '10 - 49', 'Seattle, WA', 'Undisclosed', '50 - 249', 'Chicago, IL', '$50 - $99 / hr', '10 - 49', 'Lisboa, Portugal', '$50 - $99 / hr', '50 - 249', 'Gliwice, Poland', '$50 - $99 / hr', '1,000 - 9,999', 'San Francisco, CA', '$25 - $49 / hr', '1,000 - 9,999', 'Washington, DC', '$50 - $99 / hr', '50 - 249', 'Gliwice, Poland', '$50 - $99 / hr', '250 - 999', 'Norcross, GA', '$25 - $49 / hr', '250 - 999', 'White Plains, NY', '$150 - $199 / hr', '50 - 249', 'Santa Monica, CA', '$50 - $99 / hr', '50 - 249', 'Gliwice, Poland', '$25 - $49 / hr', '1,000 - 9,999', 'Denver, CO', '$25 - $49 / hr', '1,000 - 9,999', 'Plano, TX', '$50 - $99 / hr', '1,000 - 9,999', 'Warszawa, Poland', '$50 - $99 / hr', '250 - 999', 'Poznań, Poland', '$50 - $99 / hr', '10 - 49', 'Miami, FL', '$25 - $49 / hr', '250 - 999', 'Los Altos, CA', '$100 - $149 / hr', '250 - 999', 'New York, NY', '$25 - $49 / hr', '50 - 249', 'Artesia, CA', '$100 - $149 / hr', '50 - 249', 'New York City, NY', '$150 - $199 / hr', '10 - 49', 'Providence, RI', '$150 - $199 / hr', '10 - 49', 'Chicago, IL', '$25 - $49 / hr', '50 - 249', 'Singapore', '$150 - $199 / hr', '10 - 49', 'Golden, CO', '$100 - $149 / hr', '50 - 249', 'Chicago, IL', '$25 - $49 / hr', '10 - 49', 'Karachi, Pakistan', '$50 - $99 / hr', '50 - 249', 'Córdoba, Argentina', '$50 - $99 / hr', '50 - 249', 'Draper, UT', '< $25 / hr', '50 - 249', 'Rickmansworth, United Kingdom', '$150 - $199 / hr', '50 - 249', 'Boise, ID']\n"
     ]
    },
    {
     "data": {
      "text/plain": [
       "[['$100 - $149 / hr', '10 - 49', 'Seattle, WA'],\n",
       " ['Undisclosed', '50 - 249', 'Chicago, IL'],\n",
       " ['$50 - $99 / hr', '10 - 49', 'Lisboa, Portugal'],\n",
       " ['$50 - $99 / hr', '50 - 249', 'Gliwice, Poland'],\n",
       " ['$50 - $99 / hr', '1,000 - 9,999', 'San Francisco, CA'],\n",
       " ['$25 - $49 / hr', '1,000 - 9,999', 'Washington, DC'],\n",
       " ['$50 - $99 / hr', '50 - 249', 'Gliwice, Poland'],\n",
       " ['$50 - $99 / hr', '250 - 999', 'Norcross, GA'],\n",
       " ['$25 - $49 / hr', '250 - 999', 'White Plains, NY'],\n",
       " ['$150 - $199 / hr', '50 - 249', 'Santa Monica, CA'],\n",
       " ['$50 - $99 / hr', '50 - 249', 'Gliwice, Poland'],\n",
       " ['$25 - $49 / hr', '1,000 - 9,999', 'Denver, CO'],\n",
       " ['$25 - $49 / hr', '1,000 - 9,999', 'Plano, TX'],\n",
       " ['$50 - $99 / hr', '1,000 - 9,999', 'Warszawa, Poland'],\n",
       " ['$50 - $99 / hr', '250 - 999', 'Poznań, Poland'],\n",
       " ['$50 - $99 / hr', '10 - 49', 'Miami, FL'],\n",
       " ['$25 - $49 / hr', '250 - 999', 'Los Altos, CA'],\n",
       " ['$100 - $149 / hr', '250 - 999', 'New York, NY'],\n",
       " ['$25 - $49 / hr', '50 - 249', 'Artesia, CA'],\n",
       " ['$100 - $149 / hr', '50 - 249', 'New York City, NY'],\n",
       " ['$150 - $199 / hr', '10 - 49', 'Providence, RI'],\n",
       " ['$150 - $199 / hr', '10 - 49', 'Chicago, IL'],\n",
       " ['$25 - $49 / hr', '50 - 249', 'Singapore'],\n",
       " ['$150 - $199 / hr', '10 - 49', 'Golden, CO'],\n",
       " ['$100 - $149 / hr', '50 - 249', 'Chicago, IL'],\n",
       " ['$25 - $49 / hr', '10 - 49', 'Karachi, Pakistan'],\n",
       " ['$50 - $99 / hr', '50 - 249', 'Córdoba, Argentina'],\n",
       " ['$50 - $99 / hr', '50 - 249', 'Draper, UT'],\n",
       " ['< $25 / hr', '50 - 249', 'Rickmansworth, United Kingdom'],\n",
       " ['$150 - $199 / hr', '50 - 249', 'Boise, ID']]"
      ]
     },
     "execution_count": 11,
     "metadata": {},
     "output_type": "execute_result"
    }
   ],
   "source": [
    "lis=[]\n",
    "for i in biglist1:\n",
    "\n",
    "    lis.append(i.text.strip())\n",
    "print(lis)\n",
    "\n",
    "\n",
    "def sublist(li, n):\n",
    "    sub=[] ; result=[]\n",
    "    for i in li:\n",
    "        sub+=[i]\n",
    "        if len(sub)==n: result+=[sub] ; sub=[]\n",
    "    if sub: result+=[sub]\n",
    "    return result\n",
    "sublist(lis,3)"
   ]
  },
  {
   "cell_type": "code",
   "execution_count": 14,
   "metadata": {},
   "outputs": [],
   "source": [
    "import pandas as pd\n",
    "l=[]\n",
    "website = soup1.findAll(\"div\",{\"class\":\"provider-detail col-md-2\"})\n",
    "for i in range(0,len(company1)):\n",
    "    dict={'company':company1[i].find('a').contents[0].strip(),'website':website1[i].find('a')['href'].strip(),'location':sublist(lis,3)[i][2],'hourly_rate':sublist(lis,3)[i][0],'employee_size':sublist(lis,3)[i][1],\n",
    "         'rating':rating1[i].text.strip(),'min_proj_size':min_proj_size1[i].text.strip()}\n",
    "    l.append(dict)\n",
    "convert = pd.DataFrame(l)\n",
    "convert.to_csv('software_dev.csv')"
   ]
  },
  {
   "cell_type": "markdown",
   "metadata": {},
   "source": [
    "# Artificial Intelligence"
   ]
  },
  {
   "cell_type": "code",
   "execution_count": 15,
   "metadata": {},
   "outputs": [],
   "source": [
    "import requests\n",
    "from bs4 import BeautifulSoup\n",
    "file3 = requests.get('https://clutch.co/developers/artificial-intelligence')\n",
    "soup3 = BeautifulSoup(file3.content,'html.parser')\n"
   ]
  },
  {
   "cell_type": "code",
   "execution_count": 16,
   "metadata": {},
   "outputs": [],
   "source": [
    "company3 = soup3.findAll('h3', attrs={'class':'company_info'})\n",
    "website3 = soup3.findAll(\"div\",{\"class\":\"provider-detail col-md-2\"})\n",
    "rating3 = soup3.findAll(\"span\",{\"class\":\"rating sg-rating__number\"})\n",
    "biglist = soup3.findAll(\"div\",{\"class\":\"list-item custom_popover\"})\n",
    "min_proj_size = soup3.findAll(\"div\",{\"class\":\"list-item block_tag custom_popover\"})\n"
   ]
  },
  {
   "cell_type": "code",
   "execution_count": 17,
   "metadata": {},
   "outputs": [
    {
     "name": "stdout",
     "output_type": "stream",
     "text": [
      "['$50 - $99 / hr', '250 - 999', 'Norcross, GA', '$50 - $99 / hr', '10 - 49', 'London, United Kingdom', '$100 - $149 / hr', '50 - 249', 'Wrocław, Poland', '$50 - $99 / hr', '10 - 49', 'Sunnyvale, CA', '$50 - $99 / hr', '50 - 249', 'Gdańsk, Poland', '$50 - $99 / hr', '10 - 49', 'McLean, VA', '$25 - $49 / hr', '10 - 49', 'Kyiv, Ukraine', '$100 - $149 / hr', '1,000 - 9,999', 'San Francisco, CA', '$25 - $49 / hr', '50 - 249', 'San Francisco, CA', '$100 - $149 / hr', '50 - 249', 'West Hollywood, CA', '$25 - $49 / hr', '50 - 249', 'Vancouver, Canada', '$50 - $99 / hr', '50 - 249', 'Nicosia, Cyprus', '$50 - $99 / hr', '250 - 999', 'Santa Monica, CA', '$50 - $99 / hr', '10 - 49', 'Kraków, Poland', '$50 - $99 / hr', '250 - 999', 'Kharkiv, Ukraine', '$100 - $149 / hr', '10 - 49', 'London, United Kingdom', '$150 - $199 / hr', '50 - 249', 'Worthington, OH', '$50 - $99 / hr', '10 - 49', 'Florianópolis, Brazil', '$25 - $49 / hr', '1,000 - 9,999', 'Thiruvananthapuram, India', '$25 - $49 / hr', '10 - 49', 'Gurugram, India', '$50 - $99 / hr', '50 - 249', 'London, United Kingdom', '$50 - $99 / hr', '50 - 249', 'Los Angeles, CA', '$25 - $49 / hr', '10 - 49', 'Prague, Czech Republic', '$50 - $99 / hr', '10 - 49', 'New York City, NY', '$25 - $49 / hr', '250 - 999', 'Denver, CO', '$50 - $99 / hr', '50 - 249', 'Broadheath, Altrincham, United Kingdom', '$25 - $49 / hr', '50 - 249', 'Ahmedabad, India', '$50 - $99 / hr', '10 - 49', 'Darmstadt, Germany', '$50 - $99 / hr', '1,000 - 9,999', 'Kraków, Poland', 'Undisclosed', '1,000 - 9,999', 'Agios Athanasios, Cyprus', '$25 - $49 / hr', '250 - 999', 'Naples, FL', '$50 - $99 / hr', '50 - 249', 'Kraków, Poland', '$150 - $199 / hr', '2 - 9', 'Charlotte, NC', '$25 - $49 / hr', '10 - 49', 'Pune, India', '$50 - $99 / hr', '250 - 999', 'Poznań, Poland', '$50 - $99 / hr', '50 - 249', 'Alicante (Alacant), Spain', '$100 - $149 / hr', '10 - 49', 'Miami, FL', '$200 - $300 / hr', '50 - 249', 'Los Angeles, CA', '< $25 / hr', '50 - 249', 'Portland, OR', '$50 - $99 / hr', '50 - 249', 'Austin, TX', '$25 - $49 / hr', '50 - 249', 'Gdańsk, Poland', '$25 - $49 / hr', '10 - 49', 'Islamabad, Pakistan', '$25 - $49 / hr', '250 - 999', 'Thiruvananthapuram, India', '$100 - $149 / hr', '2 - 9', 'Budapest, Hungary', '$25 - $49 / hr', '50 - 249', 'Singapore', '$25 - $49 / hr', '50 - 249', 'Alexandria, VA', '$25 - $49 / hr', '50 - 249', 'Miami, FL', '< $25 / hr', '50 - 249', 'Las Vegas, NV', '$50 - $99 / hr', '1,000 - 9,999', 'New York, NY', '$50 - $99 / hr', '10 - 49', 'Bari, Italy']\n"
     ]
    },
    {
     "data": {
      "text/plain": [
       "[['$50 - $99 / hr', '250 - 999', 'Norcross, GA'],\n",
       " ['$50 - $99 / hr', '10 - 49', 'London, United Kingdom'],\n",
       " ['$100 - $149 / hr', '50 - 249', 'Wrocław, Poland'],\n",
       " ['$50 - $99 / hr', '10 - 49', 'Sunnyvale, CA'],\n",
       " ['$50 - $99 / hr', '50 - 249', 'Gdańsk, Poland'],\n",
       " ['$50 - $99 / hr', '10 - 49', 'McLean, VA'],\n",
       " ['$25 - $49 / hr', '10 - 49', 'Kyiv, Ukraine'],\n",
       " ['$100 - $149 / hr', '1,000 - 9,999', 'San Francisco, CA'],\n",
       " ['$25 - $49 / hr', '50 - 249', 'San Francisco, CA'],\n",
       " ['$100 - $149 / hr', '50 - 249', 'West Hollywood, CA'],\n",
       " ['$25 - $49 / hr', '50 - 249', 'Vancouver, Canada'],\n",
       " ['$50 - $99 / hr', '50 - 249', 'Nicosia, Cyprus'],\n",
       " ['$50 - $99 / hr', '250 - 999', 'Santa Monica, CA'],\n",
       " ['$50 - $99 / hr', '10 - 49', 'Kraków, Poland'],\n",
       " ['$50 - $99 / hr', '250 - 999', 'Kharkiv, Ukraine'],\n",
       " ['$100 - $149 / hr', '10 - 49', 'London, United Kingdom'],\n",
       " ['$150 - $199 / hr', '50 - 249', 'Worthington, OH'],\n",
       " ['$50 - $99 / hr', '10 - 49', 'Florianópolis, Brazil'],\n",
       " ['$25 - $49 / hr', '1,000 - 9,999', 'Thiruvananthapuram, India'],\n",
       " ['$25 - $49 / hr', '10 - 49', 'Gurugram, India'],\n",
       " ['$50 - $99 / hr', '50 - 249', 'London, United Kingdom'],\n",
       " ['$50 - $99 / hr', '50 - 249', 'Los Angeles, CA'],\n",
       " ['$25 - $49 / hr', '10 - 49', 'Prague, Czech Republic'],\n",
       " ['$50 - $99 / hr', '10 - 49', 'New York City, NY'],\n",
       " ['$25 - $49 / hr', '250 - 999', 'Denver, CO'],\n",
       " ['$50 - $99 / hr', '50 - 249', 'Broadheath, Altrincham, United Kingdom'],\n",
       " ['$25 - $49 / hr', '50 - 249', 'Ahmedabad, India'],\n",
       " ['$50 - $99 / hr', '10 - 49', 'Darmstadt, Germany'],\n",
       " ['$50 - $99 / hr', '1,000 - 9,999', 'Kraków, Poland'],\n",
       " ['Undisclosed', '1,000 - 9,999', 'Agios Athanasios, Cyprus'],\n",
       " ['$25 - $49 / hr', '250 - 999', 'Naples, FL'],\n",
       " ['$50 - $99 / hr', '50 - 249', 'Kraków, Poland'],\n",
       " ['$150 - $199 / hr', '2 - 9', 'Charlotte, NC'],\n",
       " ['$25 - $49 / hr', '10 - 49', 'Pune, India'],\n",
       " ['$50 - $99 / hr', '250 - 999', 'Poznań, Poland'],\n",
       " ['$50 - $99 / hr', '50 - 249', 'Alicante (Alacant), Spain'],\n",
       " ['$100 - $149 / hr', '10 - 49', 'Miami, FL'],\n",
       " ['$200 - $300 / hr', '50 - 249', 'Los Angeles, CA'],\n",
       " ['< $25 / hr', '50 - 249', 'Portland, OR'],\n",
       " ['$50 - $99 / hr', '50 - 249', 'Austin, TX'],\n",
       " ['$25 - $49 / hr', '50 - 249', 'Gdańsk, Poland'],\n",
       " ['$25 - $49 / hr', '10 - 49', 'Islamabad, Pakistan'],\n",
       " ['$25 - $49 / hr', '250 - 999', 'Thiruvananthapuram, India'],\n",
       " ['$100 - $149 / hr', '2 - 9', 'Budapest, Hungary'],\n",
       " ['$25 - $49 / hr', '50 - 249', 'Singapore'],\n",
       " ['$25 - $49 / hr', '50 - 249', 'Alexandria, VA'],\n",
       " ['$25 - $49 / hr', '50 - 249', 'Miami, FL'],\n",
       " ['< $25 / hr', '50 - 249', 'Las Vegas, NV'],\n",
       " ['$50 - $99 / hr', '1,000 - 9,999', 'New York, NY'],\n",
       " ['$50 - $99 / hr', '10 - 49', 'Bari, Italy']]"
      ]
     },
     "execution_count": 17,
     "metadata": {},
     "output_type": "execute_result"
    }
   ],
   "source": [
    "lis=[]\n",
    "for i in biglist:\n",
    "\n",
    "    lis.append(i.text.strip())\n",
    "print(lis)\n",
    "\n",
    "\n",
    "def sublist(li, n):\n",
    "    sub=[] ; result=[]\n",
    "    for i in li:\n",
    "        sub+=[i]\n",
    "        if len(sub)==n: result+=[sub] ; sub=[]\n",
    "    if sub: result+=[sub]\n",
    "    return result\n",
    "sublist(lis,3)"
   ]
  },
  {
   "cell_type": "code",
   "execution_count": 19,
   "metadata": {},
   "outputs": [],
   "source": [
    "import pandas as pd\n",
    "l=[]\n",
    "website = soup1.findAll(\"div\",{\"class\":\"provider-detail col-md-2\"})\n",
    "for i in range(0,len(company3)):\n",
    "    dict={'company':company3[i].find('a').contents[0].strip(),'website':website3[i].find('a')['href'].strip(),'location':sublist(lis,3)[i][2],'hourly_rate':sublist(lis,3)[i][0],'employee_size':sublist(lis,3)[i][1],\n",
    "         'rating':rating3[i].text.strip(),'min_proj_size':min_proj_size[i].text.strip()}\n",
    "    l.append(dict)\n",
    "convert = pd.DataFrame(l)\n",
    "convert.to_csv('artificial_intelligence.csv')"
   ]
  },
  {
   "cell_type": "code",
   "execution_count": null,
   "metadata": {},
   "outputs": [],
   "source": []
  }
 ],
 "metadata": {
  "kernelspec": {
   "display_name": "Python 3",
   "language": "python",
   "name": "python3"
  }
 },
 "nbformat": 4,
 "nbformat_minor": 4
}
